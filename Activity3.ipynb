{
 "cells": [
  {
   "cell_type": "markdown",
   "id": "d4da2fa6-820c-46dd-9593-f5cf560d8f83",
   "metadata": {},
   "source": [
    "<h1>Project : United Kingdom Road Accident Data Analysis</h1>"
   ]
  },
  {
   "cell_type": "markdown",
   "id": "79343be5-0aa1-40a8-842d-daa4e89d416b",
   "metadata": {},
   "source": [
    "<h4>Alley Kyle Regala</h4>"
   ]
  },
  {
   "cell_type": "code",
   "execution_count": 1,
   "id": "c63635eb-c810-46e6-a8de-4de484af4415",
   "metadata": {},
   "outputs": [],
   "source": [
    "import warnings\n",
    "warnings.filterwarnings('ignore')"
   ]
  },
  {
   "cell_type": "markdown",
   "id": "bc07a92e-6812-407e-99a9-c09e5e8ad456",
   "metadata": {},
   "source": [
    "<h1>Import Libraries</h1>"
   ]
  },
  {
   "cell_type": "code",
   "execution_count": 2,
   "id": "5417f0e8-fce6-4350-ad23-1eeedc1f8773",
   "metadata": {},
   "outputs": [],
   "source": [
    "import numpy as np\n",
    "import pandas as pd\n",
    "import matplotlib.pyplot as plt\n",
    "import seaborn as sns\n"
   ]
  },
  {
   "cell_type": "markdown",
   "id": "665ea31b-b694-4090-9ff8-132b5ae793a9",
   "metadata": {},
   "source": [
    "<h1>Dataframe</h1>"
   ]
  },
  {
   "cell_type": "code",
   "execution_count": 3,
   "id": "f8a6fe14-9e7d-4d19-bbdd-b1168875bfa2",
   "metadata": {},
   "outputs": [],
   "source": [
    "aksident = pd.read_csv('dataset\\\\accident_data.csv')"
   ]
  },
  {
   "cell_type": "code",
   "execution_count": 4,
   "id": "bda64c70-d44a-4ae1-a3d0-8192bfe6cae8",
   "metadata": {},
   "outputs": [
    {
     "data": {
      "text/html": [
       "<div>\n",
       "<style scoped>\n",
       "    .dataframe tbody tr th:only-of-type {\n",
       "        vertical-align: middle;\n",
       "    }\n",
       "\n",
       "    .dataframe tbody tr th {\n",
       "        vertical-align: top;\n",
       "    }\n",
       "\n",
       "    .dataframe thead th {\n",
       "        text-align: right;\n",
       "    }\n",
       "</style>\n",
       "<table border=\"1\" class=\"dataframe\">\n",
       "  <thead>\n",
       "    <tr style=\"text-align: right;\">\n",
       "      <th></th>\n",
       "      <th>Index</th>\n",
       "      <th>Accident_Severity</th>\n",
       "      <th>Accident Date</th>\n",
       "      <th>Latitude</th>\n",
       "      <th>Light_Conditions</th>\n",
       "      <th>District Area</th>\n",
       "      <th>Longitude</th>\n",
       "      <th>Number_of_Casualties</th>\n",
       "      <th>Number_of_Vehicles</th>\n",
       "      <th>Road_Surface_Conditions</th>\n",
       "      <th>Road_Type</th>\n",
       "      <th>Urban_or_Rural_Area</th>\n",
       "      <th>Weather_Conditions</th>\n",
       "      <th>Vehicle_Type</th>\n",
       "    </tr>\n",
       "  </thead>\n",
       "  <tbody>\n",
       "    <tr>\n",
       "      <th>0</th>\n",
       "      <td>200701BS64157</td>\n",
       "      <td>Serious</td>\n",
       "      <td>05/06/2019</td>\n",
       "      <td>51.506187</td>\n",
       "      <td>Darkness - lights lit</td>\n",
       "      <td>Kensington and Chelsea</td>\n",
       "      <td>-0.209082</td>\n",
       "      <td>1</td>\n",
       "      <td>2</td>\n",
       "      <td>Dry</td>\n",
       "      <td>Single carriageway</td>\n",
       "      <td>Urban</td>\n",
       "      <td>Fine no high winds</td>\n",
       "      <td>Car</td>\n",
       "    </tr>\n",
       "    <tr>\n",
       "      <th>1</th>\n",
       "      <td>200701BS65737</td>\n",
       "      <td>Serious</td>\n",
       "      <td>02/07/2019</td>\n",
       "      <td>51.495029</td>\n",
       "      <td>Daylight</td>\n",
       "      <td>Kensington and Chelsea</td>\n",
       "      <td>-0.173647</td>\n",
       "      <td>1</td>\n",
       "      <td>2</td>\n",
       "      <td>Wet or damp</td>\n",
       "      <td>Single carriageway</td>\n",
       "      <td>Urban</td>\n",
       "      <td>Raining no high winds</td>\n",
       "      <td>Car</td>\n",
       "    </tr>\n",
       "    <tr>\n",
       "      <th>2</th>\n",
       "      <td>200701BS66127</td>\n",
       "      <td>Serious</td>\n",
       "      <td>26/08/2019</td>\n",
       "      <td>51.517715</td>\n",
       "      <td>Darkness - lighting unknown</td>\n",
       "      <td>Kensington and Chelsea</td>\n",
       "      <td>-0.210215</td>\n",
       "      <td>1</td>\n",
       "      <td>3</td>\n",
       "      <td>Dry</td>\n",
       "      <td>NaN</td>\n",
       "      <td>Urban</td>\n",
       "      <td>NaN</td>\n",
       "      <td>Taxi/Private hire car</td>\n",
       "    </tr>\n",
       "    <tr>\n",
       "      <th>3</th>\n",
       "      <td>200701BS66128</td>\n",
       "      <td>Serious</td>\n",
       "      <td>16/08/2019</td>\n",
       "      <td>51.495478</td>\n",
       "      <td>Daylight</td>\n",
       "      <td>Kensington and Chelsea</td>\n",
       "      <td>-0.202731</td>\n",
       "      <td>1</td>\n",
       "      <td>4</td>\n",
       "      <td>Dry</td>\n",
       "      <td>Single carriageway</td>\n",
       "      <td>Urban</td>\n",
       "      <td>Fine no high winds</td>\n",
       "      <td>Bus or coach (17 or more pass seats)</td>\n",
       "    </tr>\n",
       "    <tr>\n",
       "      <th>4</th>\n",
       "      <td>200701BS66837</td>\n",
       "      <td>Slight</td>\n",
       "      <td>03/09/2019</td>\n",
       "      <td>51.488576</td>\n",
       "      <td>Darkness - lights lit</td>\n",
       "      <td>Kensington and Chelsea</td>\n",
       "      <td>-0.192487</td>\n",
       "      <td>1</td>\n",
       "      <td>2</td>\n",
       "      <td>Dry</td>\n",
       "      <td>NaN</td>\n",
       "      <td>Urban</td>\n",
       "      <td>NaN</td>\n",
       "      <td>Other vehicle</td>\n",
       "    </tr>\n",
       "    <tr>\n",
       "      <th>...</th>\n",
       "      <td>...</td>\n",
       "      <td>...</td>\n",
       "      <td>...</td>\n",
       "      <td>...</td>\n",
       "      <td>...</td>\n",
       "      <td>...</td>\n",
       "      <td>...</td>\n",
       "      <td>...</td>\n",
       "      <td>...</td>\n",
       "      <td>...</td>\n",
       "      <td>...</td>\n",
       "      <td>...</td>\n",
       "      <td>...</td>\n",
       "      <td>...</td>\n",
       "    </tr>\n",
       "    <tr>\n",
       "      <th>660674</th>\n",
       "      <td>201091NM01760</td>\n",
       "      <td>Slight</td>\n",
       "      <td>18/02/2022</td>\n",
       "      <td>57.374005</td>\n",
       "      <td>Daylight</td>\n",
       "      <td>Highland</td>\n",
       "      <td>-3.467828</td>\n",
       "      <td>2</td>\n",
       "      <td>1</td>\n",
       "      <td>Dry</td>\n",
       "      <td>Single carriageway</td>\n",
       "      <td>Rural</td>\n",
       "      <td>Fine no high winds</td>\n",
       "      <td>Car</td>\n",
       "    </tr>\n",
       "    <tr>\n",
       "      <th>660675</th>\n",
       "      <td>201091NM01881</td>\n",
       "      <td>Slight</td>\n",
       "      <td>21/02/2022</td>\n",
       "      <td>57.232273</td>\n",
       "      <td>Darkness - no lighting</td>\n",
       "      <td>Highland</td>\n",
       "      <td>-3.809281</td>\n",
       "      <td>1</td>\n",
       "      <td>1</td>\n",
       "      <td>Frost or ice</td>\n",
       "      <td>Single carriageway</td>\n",
       "      <td>Rural</td>\n",
       "      <td>Fine no high winds</td>\n",
       "      <td>Car</td>\n",
       "    </tr>\n",
       "    <tr>\n",
       "      <th>660676</th>\n",
       "      <td>201091NM01935</td>\n",
       "      <td>Slight</td>\n",
       "      <td>23/02/2022</td>\n",
       "      <td>57.585044</td>\n",
       "      <td>Daylight</td>\n",
       "      <td>Highland</td>\n",
       "      <td>-3.862727</td>\n",
       "      <td>1</td>\n",
       "      <td>3</td>\n",
       "      <td>Frost or ice</td>\n",
       "      <td>Single carriageway</td>\n",
       "      <td>Rural</td>\n",
       "      <td>Fine no high winds</td>\n",
       "      <td>Car</td>\n",
       "    </tr>\n",
       "    <tr>\n",
       "      <th>660677</th>\n",
       "      <td>201091NM01964</td>\n",
       "      <td>Serious</td>\n",
       "      <td>23/02/2022</td>\n",
       "      <td>57.214898</td>\n",
       "      <td>Darkness - no lighting</td>\n",
       "      <td>Highland</td>\n",
       "      <td>-3.823997</td>\n",
       "      <td>1</td>\n",
       "      <td>2</td>\n",
       "      <td>Wet or damp</td>\n",
       "      <td>Single carriageway</td>\n",
       "      <td>Rural</td>\n",
       "      <td>Fine no high winds</td>\n",
       "      <td>Motorcycle over 500cc</td>\n",
       "    </tr>\n",
       "    <tr>\n",
       "      <th>660678</th>\n",
       "      <td>201091NM02142</td>\n",
       "      <td>Serious</td>\n",
       "      <td>28/02/2022</td>\n",
       "      <td>57.575210</td>\n",
       "      <td>Daylight</td>\n",
       "      <td>Highland</td>\n",
       "      <td>-3.895673</td>\n",
       "      <td>1</td>\n",
       "      <td>1</td>\n",
       "      <td>Wet or damp</td>\n",
       "      <td>Dual carriageway</td>\n",
       "      <td>Rural</td>\n",
       "      <td>Snowing no high winds</td>\n",
       "      <td>Car</td>\n",
       "    </tr>\n",
       "  </tbody>\n",
       "</table>\n",
       "<p>660679 rows × 14 columns</p>\n",
       "</div>"
      ],
      "text/plain": [
       "                Index Accident_Severity Accident Date   Latitude  \\\n",
       "0       200701BS64157           Serious    05/06/2019  51.506187   \n",
       "1       200701BS65737           Serious    02/07/2019  51.495029   \n",
       "2       200701BS66127           Serious    26/08/2019  51.517715   \n",
       "3       200701BS66128           Serious    16/08/2019  51.495478   \n",
       "4       200701BS66837            Slight    03/09/2019  51.488576   \n",
       "...               ...               ...           ...        ...   \n",
       "660674  201091NM01760            Slight    18/02/2022  57.374005   \n",
       "660675  201091NM01881            Slight    21/02/2022  57.232273   \n",
       "660676  201091NM01935            Slight    23/02/2022  57.585044   \n",
       "660677  201091NM01964           Serious    23/02/2022  57.214898   \n",
       "660678  201091NM02142           Serious    28/02/2022  57.575210   \n",
       "\n",
       "                   Light_Conditions           District Area  Longitude  \\\n",
       "0             Darkness - lights lit  Kensington and Chelsea  -0.209082   \n",
       "1                          Daylight  Kensington and Chelsea  -0.173647   \n",
       "2       Darkness - lighting unknown  Kensington and Chelsea  -0.210215   \n",
       "3                          Daylight  Kensington and Chelsea  -0.202731   \n",
       "4             Darkness - lights lit  Kensington and Chelsea  -0.192487   \n",
       "...                             ...                     ...        ...   \n",
       "660674                     Daylight                Highland  -3.467828   \n",
       "660675       Darkness - no lighting                Highland  -3.809281   \n",
       "660676                     Daylight                Highland  -3.862727   \n",
       "660677       Darkness - no lighting                Highland  -3.823997   \n",
       "660678                     Daylight                Highland  -3.895673   \n",
       "\n",
       "        Number_of_Casualties  Number_of_Vehicles Road_Surface_Conditions  \\\n",
       "0                          1                   2                     Dry   \n",
       "1                          1                   2             Wet or damp   \n",
       "2                          1                   3                     Dry   \n",
       "3                          1                   4                     Dry   \n",
       "4                          1                   2                     Dry   \n",
       "...                      ...                 ...                     ...   \n",
       "660674                     2                   1                     Dry   \n",
       "660675                     1                   1            Frost or ice   \n",
       "660676                     1                   3            Frost or ice   \n",
       "660677                     1                   2             Wet or damp   \n",
       "660678                     1                   1             Wet or damp   \n",
       "\n",
       "                 Road_Type Urban_or_Rural_Area     Weather_Conditions  \\\n",
       "0       Single carriageway               Urban     Fine no high winds   \n",
       "1       Single carriageway               Urban  Raining no high winds   \n",
       "2                      NaN               Urban                    NaN   \n",
       "3       Single carriageway               Urban     Fine no high winds   \n",
       "4                      NaN               Urban                    NaN   \n",
       "...                    ...                 ...                    ...   \n",
       "660674  Single carriageway               Rural     Fine no high winds   \n",
       "660675  Single carriageway               Rural     Fine no high winds   \n",
       "660676  Single carriageway               Rural     Fine no high winds   \n",
       "660677  Single carriageway               Rural     Fine no high winds   \n",
       "660678    Dual carriageway               Rural  Snowing no high winds   \n",
       "\n",
       "                                Vehicle_Type  \n",
       "0                                        Car  \n",
       "1                                        Car  \n",
       "2                      Taxi/Private hire car  \n",
       "3       Bus or coach (17 or more pass seats)  \n",
       "4                              Other vehicle  \n",
       "...                                      ...  \n",
       "660674                                   Car  \n",
       "660675                                   Car  \n",
       "660676                                   Car  \n",
       "660677                 Motorcycle over 500cc  \n",
       "660678                                   Car  \n",
       "\n",
       "[660679 rows x 14 columns]"
      ]
     },
     "execution_count": 4,
     "metadata": {},
     "output_type": "execute_result"
    }
   ],
   "source": [
    "aksident"
   ]
  },
  {
   "cell_type": "code",
   "execution_count": 5,
   "id": "e3c2099f-0b3b-44f2-9e06-566b4f3f228d",
   "metadata": {},
   "outputs": [],
   "source": [
    "aksident_total = aksident['Index'].count()"
   ]
  },
  {
   "cell_type": "code",
   "execution_count": 6,
   "id": "90ad7376-ead9-417e-9c78-6ba919002fd3",
   "metadata": {},
   "outputs": [
    {
     "data": {
      "text/plain": [
       "np.int64(660679)"
      ]
     },
     "execution_count": 6,
     "metadata": {},
     "output_type": "execute_result"
    }
   ],
   "source": [
    "aksident_total"
   ]
  },
  {
   "cell_type": "code",
   "execution_count": 7,
   "id": "22e0fcea-db3b-4844-abc0-fe67cf363491",
   "metadata": {},
   "outputs": [
    {
     "data": {
      "text/html": [
       "<div>\n",
       "<style scoped>\n",
       "    .dataframe tbody tr th:only-of-type {\n",
       "        vertical-align: middle;\n",
       "    }\n",
       "\n",
       "    .dataframe tbody tr th {\n",
       "        vertical-align: top;\n",
       "    }\n",
       "\n",
       "    .dataframe thead th {\n",
       "        text-align: right;\n",
       "    }\n",
       "</style>\n",
       "<table border=\"1\" class=\"dataframe\">\n",
       "  <thead>\n",
       "    <tr style=\"text-align: right;\">\n",
       "      <th></th>\n",
       "      <th>Latitude</th>\n",
       "      <th>Longitude</th>\n",
       "      <th>Number_of_Casualties</th>\n",
       "      <th>Number_of_Vehicles</th>\n",
       "    </tr>\n",
       "  </thead>\n",
       "  <tbody>\n",
       "    <tr>\n",
       "      <th>count</th>\n",
       "      <td>660654.000000</td>\n",
       "      <td>660653.000000</td>\n",
       "      <td>660679.000000</td>\n",
       "      <td>660679.000000</td>\n",
       "    </tr>\n",
       "    <tr>\n",
       "      <th>mean</th>\n",
       "      <td>52.553866</td>\n",
       "      <td>-1.431210</td>\n",
       "      <td>1.357040</td>\n",
       "      <td>1.831255</td>\n",
       "    </tr>\n",
       "    <tr>\n",
       "      <th>std</th>\n",
       "      <td>1.406922</td>\n",
       "      <td>1.383330</td>\n",
       "      <td>0.824847</td>\n",
       "      <td>0.715269</td>\n",
       "    </tr>\n",
       "    <tr>\n",
       "      <th>min</th>\n",
       "      <td>49.914430</td>\n",
       "      <td>-7.516225</td>\n",
       "      <td>1.000000</td>\n",
       "      <td>1.000000</td>\n",
       "    </tr>\n",
       "    <tr>\n",
       "      <th>25%</th>\n",
       "      <td>51.490690</td>\n",
       "      <td>-2.332291</td>\n",
       "      <td>1.000000</td>\n",
       "      <td>1.000000</td>\n",
       "    </tr>\n",
       "    <tr>\n",
       "      <th>50%</th>\n",
       "      <td>52.315641</td>\n",
       "      <td>-1.411667</td>\n",
       "      <td>1.000000</td>\n",
       "      <td>2.000000</td>\n",
       "    </tr>\n",
       "    <tr>\n",
       "      <th>75%</th>\n",
       "      <td>53.453452</td>\n",
       "      <td>-0.232869</td>\n",
       "      <td>1.000000</td>\n",
       "      <td>2.000000</td>\n",
       "    </tr>\n",
       "    <tr>\n",
       "      <th>max</th>\n",
       "      <td>60.757544</td>\n",
       "      <td>1.762010</td>\n",
       "      <td>68.000000</td>\n",
       "      <td>32.000000</td>\n",
       "    </tr>\n",
       "  </tbody>\n",
       "</table>\n",
       "</div>"
      ],
      "text/plain": [
       "            Latitude      Longitude  Number_of_Casualties  Number_of_Vehicles\n",
       "count  660654.000000  660653.000000         660679.000000       660679.000000\n",
       "mean       52.553866      -1.431210              1.357040            1.831255\n",
       "std         1.406922       1.383330              0.824847            0.715269\n",
       "min        49.914430      -7.516225              1.000000            1.000000\n",
       "25%        51.490690      -2.332291              1.000000            1.000000\n",
       "50%        52.315641      -1.411667              1.000000            2.000000\n",
       "75%        53.453452      -0.232869              1.000000            2.000000\n",
       "max        60.757544       1.762010             68.000000           32.000000"
      ]
     },
     "execution_count": 7,
     "metadata": {},
     "output_type": "execute_result"
    }
   ],
   "source": [
    "aksident.describe()"
   ]
  },
  {
   "cell_type": "code",
   "execution_count": 8,
   "id": "d2a14e69-51df-4790-9a12-b940616e3fb8",
   "metadata": {},
   "outputs": [],
   "source": [
    "aksident['Accident_Severity'] = aksident['Accident_Severity'].astype('category')"
   ]
  },
  {
   "cell_type": "markdown",
   "id": "48c245f7-7539-4adb-9ac0-e5dd13a195f3",
   "metadata": {},
   "source": [
    "<h1>Converting Object into DateTime Data Type</h1>"
   ]
  },
  {
   "cell_type": "code",
   "execution_count": 9,
   "id": "ded088fc-1682-4fa8-bacd-893ba5370b72",
   "metadata": {},
   "outputs": [],
   "source": [
    "aksident['Accident Date'] = pd.to_datetime(aksident['Accident Date'], dayfirst = True, errors = 'coerce')"
   ]
  },
  {
   "cell_type": "code",
   "execution_count": 10,
   "id": "39bde7aa-2694-4c3c-bfb5-4907c0f358ad",
   "metadata": {},
   "outputs": [
    {
     "data": {
      "text/plain": [
       "Index                              object\n",
       "Accident_Severity                category\n",
       "Accident Date              datetime64[ns]\n",
       "Latitude                          float64\n",
       "Light_Conditions                   object\n",
       "District Area                      object\n",
       "Longitude                         float64\n",
       "Number_of_Casualties                int64\n",
       "Number_of_Vehicles                  int64\n",
       "Road_Surface_Conditions            object\n",
       "Road_Type                          object\n",
       "Urban_or_Rural_Area                object\n",
       "Weather_Conditions                 object\n",
       "Vehicle_Type                       object\n",
       "dtype: object"
      ]
     },
     "execution_count": 10,
     "metadata": {},
     "output_type": "execute_result"
    }
   ],
   "source": [
    "aksident.dtypes"
   ]
  },
  {
   "cell_type": "code",
   "execution_count": 11,
   "id": "e0a99e58-1d8b-4269-ab42-86fbf4d01ba4",
   "metadata": {},
   "outputs": [
    {
     "data": {
      "text/plain": [
       "Index                          0\n",
       "Accident_Severity              0\n",
       "Accident Date                  0\n",
       "Latitude                      25\n",
       "Light_Conditions               0\n",
       "District Area                  0\n",
       "Longitude                     26\n",
       "Number_of_Casualties           0\n",
       "Number_of_Vehicles             0\n",
       "Road_Surface_Conditions      726\n",
       "Road_Type                   4520\n",
       "Urban_or_Rural_Area           15\n",
       "Weather_Conditions         14128\n",
       "Vehicle_Type                   0\n",
       "dtype: int64"
      ]
     },
     "execution_count": 11,
     "metadata": {},
     "output_type": "execute_result"
    }
   ],
   "source": [
    "aksident.isnull().sum()"
   ]
  },
  {
   "cell_type": "markdown",
   "id": "166463b7-d599-4240-bba1-551c42333f66",
   "metadata": {},
   "source": [
    "<h1>Filling up missing value</h1>"
   ]
  },
  {
   "cell_type": "code",
   "execution_count": 12,
   "id": "b2118be6-89d6-43cd-a684-e517f992cb09",
   "metadata": {},
   "outputs": [],
   "source": [
    "aksident['Latitude'] = aksident['Latitude'].fillna(aksident['Latitude'].mode()[0])\n",
    "aksident['Longitude'] = aksident ['Longitude'].fillna(aksident['Longitude'].mode()[0])\n",
    "aksident['Road_Surface_Conditions'] = aksident['Road_Surface_Conditions'].fillna('unknown Road Surface Conditions')\n",
    "aksident['Road_Type'] = aksident['Road_Type'].fillna('unknown Road Type')\n",
    "aksident['Urban_or_Rural_Area'] = aksident['Urban_or_Rural_Area'].fillna('unknown Urban or Rural Area')\n",
    "aksident['Weather_Conditions'] = aksident['Weather_Conditions'].fillna('unknown Weather Conditions')"
   ]
  },
  {
   "cell_type": "code",
   "execution_count": 13,
   "id": "9bc209e4-d80f-41fa-806f-5bbbba303d25",
   "metadata": {},
   "outputs": [
    {
     "data": {
      "text/plain": [
       "Index                      0\n",
       "Accident_Severity          0\n",
       "Accident Date              0\n",
       "Latitude                   0\n",
       "Light_Conditions           0\n",
       "District Area              0\n",
       "Longitude                  0\n",
       "Number_of_Casualties       0\n",
       "Number_of_Vehicles         0\n",
       "Road_Surface_Conditions    0\n",
       "Road_Type                  0\n",
       "Urban_or_Rural_Area        0\n",
       "Weather_Conditions         0\n",
       "Vehicle_Type               0\n",
       "dtype: int64"
      ]
     },
     "execution_count": 13,
     "metadata": {},
     "output_type": "execute_result"
    }
   ],
   "source": [
    "aksident.isnull().sum()"
   ]
  },
  {
   "cell_type": "code",
   "execution_count": 14,
   "id": "7f2a4a0c-713a-435c-ab2e-ede33d21feb7",
   "metadata": {},
   "outputs": [
    {
     "data": {
      "text/plain": [
       "Index                              object\n",
       "Accident_Severity                category\n",
       "Accident Date              datetime64[ns]\n",
       "Latitude                          float64\n",
       "Light_Conditions                   object\n",
       "District Area                      object\n",
       "Longitude                         float64\n",
       "Number_of_Casualties                int64\n",
       "Number_of_Vehicles                  int64\n",
       "Road_Surface_Conditions            object\n",
       "Road_Type                          object\n",
       "Urban_or_Rural_Area                object\n",
       "Weather_Conditions                 object\n",
       "Vehicle_Type                       object\n",
       "dtype: object"
      ]
     },
     "execution_count": 14,
     "metadata": {},
     "output_type": "execute_result"
    }
   ],
   "source": [
    "aksident.dtypes"
   ]
  },
  {
   "cell_type": "code",
   "execution_count": 15,
   "id": "83f9bc4b-3f44-466d-9401-c9fea3142715",
   "metadata": {},
   "outputs": [],
   "source": [
    "aksident['Latitude'] = aksident['Latitude'].astype('category')\n",
    "aksident['Light_Conditions'] = aksident['Light_Conditions'].astype('category')\n",
    "aksident['District Area'] = aksident['District Area'].astype('category')\n",
    "aksident['Longitude'] = aksident['Longitude'].astype('category')\n",
    "aksident['Road_Surface_Conditions'] = aksident['Road_Surface_Conditions'].astype('category')\n",
    "aksident['Road_Type'] = aksident['Road_Type'].astype('category')\n",
    "aksident['Urban_or_Rural_Area'] = aksident['Urban_or_Rural_Area'].astype('category')\n",
    "aksident['Weather_Conditions'] = aksident['Weather_Conditions'].astype('category')\n",
    "aksident['Vehicle_Type'] = aksident['Vehicle_Type'].astype('category')\n",
    "aksident['Road_Type'] = aksident['Road_Type'].astype('category')"
   ]
  },
  {
   "cell_type": "code",
   "execution_count": 16,
   "id": "a723efc2-8439-4387-ac79-ed9df011d797",
   "metadata": {},
   "outputs": [
    {
     "data": {
      "text/plain": [
       "Index                              object\n",
       "Accident_Severity                category\n",
       "Accident Date              datetime64[ns]\n",
       "Latitude                         category\n",
       "Light_Conditions                 category\n",
       "District Area                    category\n",
       "Longitude                        category\n",
       "Number_of_Casualties                int64\n",
       "Number_of_Vehicles                  int64\n",
       "Road_Surface_Conditions          category\n",
       "Road_Type                        category\n",
       "Urban_or_Rural_Area              category\n",
       "Weather_Conditions               category\n",
       "Vehicle_Type                     category\n",
       "dtype: object"
      ]
     },
     "execution_count": 16,
     "metadata": {},
     "output_type": "execute_result"
    }
   ],
   "source": [
    "aksident.dtypes"
   ]
  },
  {
   "cell_type": "code",
   "execution_count": 17,
   "id": "233bc01b-6797-4762-b3bd-3aede3c05d70",
   "metadata": {},
   "outputs": [
    {
     "data": {
      "text/plain": [
       "Index                      0\n",
       "Accident_Severity          0\n",
       "Accident Date              0\n",
       "Latitude                   0\n",
       "Light_Conditions           0\n",
       "District Area              0\n",
       "Longitude                  0\n",
       "Number_of_Casualties       0\n",
       "Number_of_Vehicles         0\n",
       "Road_Surface_Conditions    0\n",
       "Road_Type                  0\n",
       "Urban_or_Rural_Area        0\n",
       "Weather_Conditions         0\n",
       "Vehicle_Type               0\n",
       "dtype: int64"
      ]
     },
     "execution_count": 17,
     "metadata": {},
     "output_type": "execute_result"
    }
   ],
   "source": [
    "aksident.isnull().sum()"
   ]
  },
  {
   "cell_type": "markdown",
   "id": "e198cd66-cb1b-42be-9ae1-57263ca14cf0",
   "metadata": {},
   "source": [
    "<h1>Extracting date info</h1>"
   ]
  },
  {
   "cell_type": "code",
   "execution_count": 18,
   "id": "af4206ac-4eda-4f74-a209-ef30d4fbe382",
   "metadata": {},
   "outputs": [],
   "source": [
    "aksident['Year'] = aksident['Accident Date'].dt.year\n",
    "aksident['Month'] = aksident['Accident Date'].dt.month\n",
    "aksident['Day'] = aksident['Accident Date'].dt.day\n",
    "aksident['DayOfWeek'] = aksident['Accident Date'].dt.dayofweek"
   ]
  },
  {
   "cell_type": "markdown",
   "id": "def35fe6-2420-4566-956e-9cd7c35d3066",
   "metadata": {},
   "source": [
    "<h1>UniVariate</h1>"
   ]
  },
  {
   "cell_type": "code",
   "execution_count": 19,
   "id": "0e8eb967-12fb-4ea7-989b-dff400d5f132",
   "metadata": {},
   "outputs": [],
   "source": [
    "df_2019 = aksident[aksident['Year'] == 2019 ]"
   ]
  },
  {
   "cell_type": "code",
   "execution_count": 20,
   "id": "33a2e57e-ef69-4a0e-80b2-e874b17188af",
   "metadata": {
    "scrolled": true
   },
   "outputs": [
    {
     "data": {
      "text/html": [
       "<div>\n",
       "<style scoped>\n",
       "    .dataframe tbody tr th:only-of-type {\n",
       "        vertical-align: middle;\n",
       "    }\n",
       "\n",
       "    .dataframe tbody tr th {\n",
       "        vertical-align: top;\n",
       "    }\n",
       "\n",
       "    .dataframe thead th {\n",
       "        text-align: right;\n",
       "    }\n",
       "</style>\n",
       "<table border=\"1\" class=\"dataframe\">\n",
       "  <thead>\n",
       "    <tr style=\"text-align: right;\">\n",
       "      <th></th>\n",
       "      <th>Index</th>\n",
       "      <th>Accident_Severity</th>\n",
       "      <th>Accident Date</th>\n",
       "      <th>Latitude</th>\n",
       "      <th>Light_Conditions</th>\n",
       "      <th>District Area</th>\n",
       "      <th>Longitude</th>\n",
       "      <th>Number_of_Casualties</th>\n",
       "      <th>Number_of_Vehicles</th>\n",
       "      <th>Road_Surface_Conditions</th>\n",
       "      <th>Road_Type</th>\n",
       "      <th>Urban_or_Rural_Area</th>\n",
       "      <th>Weather_Conditions</th>\n",
       "      <th>Vehicle_Type</th>\n",
       "      <th>Year</th>\n",
       "      <th>Month</th>\n",
       "      <th>Day</th>\n",
       "      <th>DayOfWeek</th>\n",
       "    </tr>\n",
       "  </thead>\n",
       "  <tbody>\n",
       "    <tr>\n",
       "      <th>0</th>\n",
       "      <td>200701BS64157</td>\n",
       "      <td>Serious</td>\n",
       "      <td>2019-06-05</td>\n",
       "      <td>51.506187</td>\n",
       "      <td>Darkness - lights lit</td>\n",
       "      <td>Kensington and Chelsea</td>\n",
       "      <td>-0.209082</td>\n",
       "      <td>1</td>\n",
       "      <td>2</td>\n",
       "      <td>Dry</td>\n",
       "      <td>Single carriageway</td>\n",
       "      <td>Urban</td>\n",
       "      <td>Fine no high winds</td>\n",
       "      <td>Car</td>\n",
       "      <td>2019</td>\n",
       "      <td>6</td>\n",
       "      <td>5</td>\n",
       "      <td>2</td>\n",
       "    </tr>\n",
       "    <tr>\n",
       "      <th>1</th>\n",
       "      <td>200701BS65737</td>\n",
       "      <td>Serious</td>\n",
       "      <td>2019-07-02</td>\n",
       "      <td>51.495029</td>\n",
       "      <td>Daylight</td>\n",
       "      <td>Kensington and Chelsea</td>\n",
       "      <td>-0.173647</td>\n",
       "      <td>1</td>\n",
       "      <td>2</td>\n",
       "      <td>Wet or damp</td>\n",
       "      <td>Single carriageway</td>\n",
       "      <td>Urban</td>\n",
       "      <td>Raining no high winds</td>\n",
       "      <td>Car</td>\n",
       "      <td>2019</td>\n",
       "      <td>7</td>\n",
       "      <td>2</td>\n",
       "      <td>1</td>\n",
       "    </tr>\n",
       "    <tr>\n",
       "      <th>2</th>\n",
       "      <td>200701BS66127</td>\n",
       "      <td>Serious</td>\n",
       "      <td>2019-08-26</td>\n",
       "      <td>51.517715</td>\n",
       "      <td>Darkness - lighting unknown</td>\n",
       "      <td>Kensington and Chelsea</td>\n",
       "      <td>-0.210215</td>\n",
       "      <td>1</td>\n",
       "      <td>3</td>\n",
       "      <td>Dry</td>\n",
       "      <td>unknown Road Type</td>\n",
       "      <td>Urban</td>\n",
       "      <td>unknown Weather Conditions</td>\n",
       "      <td>Taxi/Private hire car</td>\n",
       "      <td>2019</td>\n",
       "      <td>8</td>\n",
       "      <td>26</td>\n",
       "      <td>0</td>\n",
       "    </tr>\n",
       "    <tr>\n",
       "      <th>3</th>\n",
       "      <td>200701BS66128</td>\n",
       "      <td>Serious</td>\n",
       "      <td>2019-08-16</td>\n",
       "      <td>51.495478</td>\n",
       "      <td>Daylight</td>\n",
       "      <td>Kensington and Chelsea</td>\n",
       "      <td>-0.202731</td>\n",
       "      <td>1</td>\n",
       "      <td>4</td>\n",
       "      <td>Dry</td>\n",
       "      <td>Single carriageway</td>\n",
       "      <td>Urban</td>\n",
       "      <td>Fine no high winds</td>\n",
       "      <td>Bus or coach (17 or more pass seats)</td>\n",
       "      <td>2019</td>\n",
       "      <td>8</td>\n",
       "      <td>16</td>\n",
       "      <td>4</td>\n",
       "    </tr>\n",
       "    <tr>\n",
       "      <th>4</th>\n",
       "      <td>200701BS66837</td>\n",
       "      <td>Slight</td>\n",
       "      <td>2019-09-03</td>\n",
       "      <td>51.488576</td>\n",
       "      <td>Darkness - lights lit</td>\n",
       "      <td>Kensington and Chelsea</td>\n",
       "      <td>-0.192487</td>\n",
       "      <td>1</td>\n",
       "      <td>2</td>\n",
       "      <td>Dry</td>\n",
       "      <td>unknown Road Type</td>\n",
       "      <td>Urban</td>\n",
       "      <td>unknown Weather Conditions</td>\n",
       "      <td>Other vehicle</td>\n",
       "      <td>2019</td>\n",
       "      <td>9</td>\n",
       "      <td>3</td>\n",
       "      <td>1</td>\n",
       "    </tr>\n",
       "    <tr>\n",
       "      <th>...</th>\n",
       "      <td>...</td>\n",
       "      <td>...</td>\n",
       "      <td>...</td>\n",
       "      <td>...</td>\n",
       "      <td>...</td>\n",
       "      <td>...</td>\n",
       "      <td>...</td>\n",
       "      <td>...</td>\n",
       "      <td>...</td>\n",
       "      <td>...</td>\n",
       "      <td>...</td>\n",
       "      <td>...</td>\n",
       "      <td>...</td>\n",
       "      <td>...</td>\n",
       "      <td>...</td>\n",
       "      <td>...</td>\n",
       "      <td>...</td>\n",
       "      <td>...</td>\n",
       "    </tr>\n",
       "    <tr>\n",
       "      <th>182110</th>\n",
       "      <td>2.01E+12</td>\n",
       "      <td>Slight</td>\n",
       "      <td>2019-12-20</td>\n",
       "      <td>54.985289</td>\n",
       "      <td>Darkness - no lighting</td>\n",
       "      <td>Dumfries and Galloway</td>\n",
       "      <td>-3.210294</td>\n",
       "      <td>1</td>\n",
       "      <td>1</td>\n",
       "      <td>Frost or ice</td>\n",
       "      <td>Single carriageway</td>\n",
       "      <td>Rural</td>\n",
       "      <td>Other</td>\n",
       "      <td>Car</td>\n",
       "      <td>2019</td>\n",
       "      <td>12</td>\n",
       "      <td>20</td>\n",
       "      <td>4</td>\n",
       "    </tr>\n",
       "    <tr>\n",
       "      <th>182111</th>\n",
       "      <td>2.01E+12</td>\n",
       "      <td>Serious</td>\n",
       "      <td>2019-12-21</td>\n",
       "      <td>54.984105</td>\n",
       "      <td>Daylight</td>\n",
       "      <td>Dumfries and Galloway</td>\n",
       "      <td>-3.193693</td>\n",
       "      <td>2</td>\n",
       "      <td>1</td>\n",
       "      <td>Frost or ice</td>\n",
       "      <td>Single carriageway</td>\n",
       "      <td>Rural</td>\n",
       "      <td>Other</td>\n",
       "      <td>Car</td>\n",
       "      <td>2019</td>\n",
       "      <td>12</td>\n",
       "      <td>21</td>\n",
       "      <td>5</td>\n",
       "    </tr>\n",
       "    <tr>\n",
       "      <th>182112</th>\n",
       "      <td>2.01E+12</td>\n",
       "      <td>Slight</td>\n",
       "      <td>2019-12-23</td>\n",
       "      <td>55.166369</td>\n",
       "      <td>Darkness - no lighting</td>\n",
       "      <td>Dumfries and Galloway</td>\n",
       "      <td>-2.992068</td>\n",
       "      <td>1</td>\n",
       "      <td>1</td>\n",
       "      <td>Frost or ice</td>\n",
       "      <td>Single carriageway</td>\n",
       "      <td>Rural</td>\n",
       "      <td>Fog or mist</td>\n",
       "      <td>Van / Goods 3.5 tonnes mgw or under</td>\n",
       "      <td>2019</td>\n",
       "      <td>12</td>\n",
       "      <td>23</td>\n",
       "      <td>0</td>\n",
       "    </tr>\n",
       "    <tr>\n",
       "      <th>182113</th>\n",
       "      <td>2.01E+12</td>\n",
       "      <td>Slight</td>\n",
       "      <td>2019-12-23</td>\n",
       "      <td>54.995154</td>\n",
       "      <td>Darkness - lights lit</td>\n",
       "      <td>Dumfries and Galloway</td>\n",
       "      <td>-3.058338</td>\n",
       "      <td>1</td>\n",
       "      <td>1</td>\n",
       "      <td>Wet or damp</td>\n",
       "      <td>Single carriageway</td>\n",
       "      <td>Rural</td>\n",
       "      <td>Fine no high winds</td>\n",
       "      <td>Car</td>\n",
       "      <td>2019</td>\n",
       "      <td>12</td>\n",
       "      <td>23</td>\n",
       "      <td>0</td>\n",
       "    </tr>\n",
       "    <tr>\n",
       "      <th>182114</th>\n",
       "      <td>2.01E+12</td>\n",
       "      <td>Serious</td>\n",
       "      <td>2019-12-22</td>\n",
       "      <td>55.104618</td>\n",
       "      <td>Daylight</td>\n",
       "      <td>Dumfries and Galloway</td>\n",
       "      <td>-3.348857</td>\n",
       "      <td>2</td>\n",
       "      <td>2</td>\n",
       "      <td>Frost or ice</td>\n",
       "      <td>Single carriageway</td>\n",
       "      <td>Rural</td>\n",
       "      <td>Raining no high winds</td>\n",
       "      <td>Car</td>\n",
       "      <td>2019</td>\n",
       "      <td>12</td>\n",
       "      <td>22</td>\n",
       "      <td>6</td>\n",
       "    </tr>\n",
       "  </tbody>\n",
       "</table>\n",
       "<p>182115 rows × 18 columns</p>\n",
       "</div>"
      ],
      "text/plain": [
       "                Index Accident_Severity Accident Date   Latitude  \\\n",
       "0       200701BS64157           Serious    2019-06-05  51.506187   \n",
       "1       200701BS65737           Serious    2019-07-02  51.495029   \n",
       "2       200701BS66127           Serious    2019-08-26  51.517715   \n",
       "3       200701BS66128           Serious    2019-08-16  51.495478   \n",
       "4       200701BS66837            Slight    2019-09-03  51.488576   \n",
       "...               ...               ...           ...        ...   \n",
       "182110       2.01E+12            Slight    2019-12-20  54.985289   \n",
       "182111       2.01E+12           Serious    2019-12-21  54.984105   \n",
       "182112       2.01E+12            Slight    2019-12-23  55.166369   \n",
       "182113       2.01E+12            Slight    2019-12-23  54.995154   \n",
       "182114       2.01E+12           Serious    2019-12-22  55.104618   \n",
       "\n",
       "                   Light_Conditions           District Area Longitude  \\\n",
       "0             Darkness - lights lit  Kensington and Chelsea -0.209082   \n",
       "1                          Daylight  Kensington and Chelsea -0.173647   \n",
       "2       Darkness - lighting unknown  Kensington and Chelsea -0.210215   \n",
       "3                          Daylight  Kensington and Chelsea -0.202731   \n",
       "4             Darkness - lights lit  Kensington and Chelsea -0.192487   \n",
       "...                             ...                     ...       ...   \n",
       "182110       Darkness - no lighting   Dumfries and Galloway -3.210294   \n",
       "182111                     Daylight   Dumfries and Galloway -3.193693   \n",
       "182112       Darkness - no lighting   Dumfries and Galloway -2.992068   \n",
       "182113        Darkness - lights lit   Dumfries and Galloway -3.058338   \n",
       "182114                     Daylight   Dumfries and Galloway -3.348857   \n",
       "\n",
       "        Number_of_Casualties  Number_of_Vehicles Road_Surface_Conditions  \\\n",
       "0                          1                   2                     Dry   \n",
       "1                          1                   2             Wet or damp   \n",
       "2                          1                   3                     Dry   \n",
       "3                          1                   4                     Dry   \n",
       "4                          1                   2                     Dry   \n",
       "...                      ...                 ...                     ...   \n",
       "182110                     1                   1            Frost or ice   \n",
       "182111                     2                   1            Frost or ice   \n",
       "182112                     1                   1            Frost or ice   \n",
       "182113                     1                   1             Wet or damp   \n",
       "182114                     2                   2            Frost or ice   \n",
       "\n",
       "                 Road_Type Urban_or_Rural_Area          Weather_Conditions  \\\n",
       "0       Single carriageway               Urban          Fine no high winds   \n",
       "1       Single carriageway               Urban       Raining no high winds   \n",
       "2        unknown Road Type               Urban  unknown Weather Conditions   \n",
       "3       Single carriageway               Urban          Fine no high winds   \n",
       "4        unknown Road Type               Urban  unknown Weather Conditions   \n",
       "...                    ...                 ...                         ...   \n",
       "182110  Single carriageway               Rural                       Other   \n",
       "182111  Single carriageway               Rural                       Other   \n",
       "182112  Single carriageway               Rural                 Fog or mist   \n",
       "182113  Single carriageway               Rural          Fine no high winds   \n",
       "182114  Single carriageway               Rural       Raining no high winds   \n",
       "\n",
       "                                Vehicle_Type  Year  Month  Day  DayOfWeek  \n",
       "0                                        Car  2019      6    5          2  \n",
       "1                                        Car  2019      7    2          1  \n",
       "2                      Taxi/Private hire car  2019      8   26          0  \n",
       "3       Bus or coach (17 or more pass seats)  2019      8   16          4  \n",
       "4                              Other vehicle  2019      9    3          1  \n",
       "...                                      ...   ...    ...  ...        ...  \n",
       "182110                                   Car  2019     12   20          4  \n",
       "182111                                   Car  2019     12   21          5  \n",
       "182112   Van / Goods 3.5 tonnes mgw or under  2019     12   23          0  \n",
       "182113                                   Car  2019     12   23          0  \n",
       "182114                                   Car  2019     12   22          6  \n",
       "\n",
       "[182115 rows x 18 columns]"
      ]
     },
     "execution_count": 20,
     "metadata": {},
     "output_type": "execute_result"
    }
   ],
   "source": [
    "df_2019"
   ]
  },
  {
   "cell_type": "code",
   "execution_count": 21,
   "id": "ac717f98-7686-4881-a282-1031686485b7",
   "metadata": {},
   "outputs": [
    {
     "data": {
      "text/plain": [
       "Light_Conditions\n",
       "Daylight                       133042\n",
       "Darkness - lights lit           35769\n",
       "Darkness - no lighting          10842\n",
       "Darkness - lighting unknown      1768\n",
       "Darkness - lights unlit           694\n",
       "Name: count, dtype: int64"
      ]
     },
     "execution_count": 21,
     "metadata": {},
     "output_type": "execute_result"
    }
   ],
   "source": [
    "df_2019['Light_Conditions'].value_counts()"
   ]
  },
  {
   "cell_type": "code",
   "execution_count": 22,
   "id": "0b75ea93-88b8-4d5b-8144-108dc635632a",
   "metadata": {},
   "outputs": [
    {
     "data": {
      "text/plain": [
       "np.int64(182115)"
      ]
     },
     "execution_count": 22,
     "metadata": {},
     "output_type": "execute_result"
    }
   ],
   "source": [
    "df_2019['Light_Conditions'].value_counts().sum()"
   ]
  },
  {
   "cell_type": "markdown",
   "id": "f5fc825d-5dd9-4819-9c9b-3e8e5d3172c8",
   "metadata": {},
   "source": [
    "<h1>Using Percentage Difference Calculator</h1>\n",
    "<h3>Answer : There is a = 31.1419% difference</h3>"
   ]
  },
  {
   "cell_type": "markdown",
   "id": "9fe5e59d-062c-49d5-ae5e-56fa0c2f89bc",
   "metadata": {},
   "source": [
    "<h1>BiVariate</h1>"
   ]
  },
  {
   "cell_type": "code",
   "execution_count": 23,
   "id": "b27f46ad-3992-4d77-8ea4-3fdf46057987",
   "metadata": {},
   "outputs": [
    {
     "data": {
      "text/plain": [
       "Vehicle_Type\n",
       "Car                                      392668\n",
       "Van / Goods 3.5 tonnes mgw or under       26877\n",
       "Bus or coach (17 or more pass seats)      20398\n",
       "Motorcycle over 500cc                     20245\n",
       "Goods 7.5 tonnes mgw and over             13589\n",
       "Motorcycle 125cc and under                12064\n",
       "Taxi/Private hire car                     10452\n",
       "Motorcycle over 125cc and up to 500cc      6069\n",
       "Motorcycle 50cc and under                  6017\n",
       "Goods over 3.5t. and under 7.5t            4823\n",
       "Other vehicle                              4450\n",
       "Minibus (8 - 16 passenger seats)           1552\n",
       "Agricultural vehicle                       1513\n",
       "Pedal cycle                                 161\n",
       "Data missing or out of range                  4\n",
       "Ridden horse                                  3\n",
       "Name: count, dtype: int64"
      ]
     },
     "execution_count": 23,
     "metadata": {},
     "output_type": "execute_result"
    }
   ],
   "source": [
    "fine = aksident[aksident['Weather_Conditions'] == 'Fine no high winds']\n",
    "fine['Vehicle_Type'].value_counts()"
   ]
  },
  {
   "cell_type": "markdown",
   "id": "750501ab-1ab2-4faf-a95f-e826b6eaaa51",
   "metadata": {},
   "source": [
    "<h1>Total of Accident because of \"TGIF\" Motto</h1>"
   ]
  },
  {
   "cell_type": "markdown",
   "id": "6924a8c1-2b98-4536-b32d-2c145382e2b8",
   "metadata": {},
   "source": [
    "<h1>MultiVariate</h1>"
   ]
  },
  {
   "cell_type": "code",
   "execution_count": 24,
   "id": "ecc1ac38-5fcc-4b68-b342-82d71d1c85d1",
   "metadata": {},
   "outputs": [],
   "source": [
    "Severity = aksident.groupby(\"Accident_Severity\").count()"
   ]
  },
  {
   "cell_type": "code",
   "execution_count": 25,
   "id": "410bef14-803a-4312-b1f0-63ca5f87fe2e",
   "metadata": {},
   "outputs": [
    {
     "data": {
      "text/html": [
       "<div>\n",
       "<style scoped>\n",
       "    .dataframe tbody tr th:only-of-type {\n",
       "        vertical-align: middle;\n",
       "    }\n",
       "\n",
       "    .dataframe tbody tr th {\n",
       "        vertical-align: top;\n",
       "    }\n",
       "\n",
       "    .dataframe thead th {\n",
       "        text-align: right;\n",
       "    }\n",
       "</style>\n",
       "<table border=\"1\" class=\"dataframe\">\n",
       "  <thead>\n",
       "    <tr style=\"text-align: right;\">\n",
       "      <th></th>\n",
       "      <th>Index</th>\n",
       "      <th>Accident Date</th>\n",
       "      <th>Latitude</th>\n",
       "      <th>Light_Conditions</th>\n",
       "      <th>District Area</th>\n",
       "      <th>Longitude</th>\n",
       "      <th>Number_of_Casualties</th>\n",
       "      <th>Number_of_Vehicles</th>\n",
       "      <th>Road_Surface_Conditions</th>\n",
       "      <th>Road_Type</th>\n",
       "      <th>Urban_or_Rural_Area</th>\n",
       "      <th>Weather_Conditions</th>\n",
       "      <th>Vehicle_Type</th>\n",
       "      <th>Year</th>\n",
       "      <th>Month</th>\n",
       "      <th>Day</th>\n",
       "      <th>DayOfWeek</th>\n",
       "    </tr>\n",
       "    <tr>\n",
       "      <th>Accident_Severity</th>\n",
       "      <th></th>\n",
       "      <th></th>\n",
       "      <th></th>\n",
       "      <th></th>\n",
       "      <th></th>\n",
       "      <th></th>\n",
       "      <th></th>\n",
       "      <th></th>\n",
       "      <th></th>\n",
       "      <th></th>\n",
       "      <th></th>\n",
       "      <th></th>\n",
       "      <th></th>\n",
       "      <th></th>\n",
       "      <th></th>\n",
       "      <th></th>\n",
       "      <th></th>\n",
       "    </tr>\n",
       "  </thead>\n",
       "  <tbody>\n",
       "    <tr>\n",
       "      <th>Fatal</th>\n",
       "      <td>8661</td>\n",
       "      <td>8661</td>\n",
       "      <td>8661</td>\n",
       "      <td>8661</td>\n",
       "      <td>8661</td>\n",
       "      <td>8661</td>\n",
       "      <td>8661</td>\n",
       "      <td>8661</td>\n",
       "      <td>8661</td>\n",
       "      <td>8661</td>\n",
       "      <td>8661</td>\n",
       "      <td>8661</td>\n",
       "      <td>8661</td>\n",
       "      <td>8661</td>\n",
       "      <td>8661</td>\n",
       "      <td>8661</td>\n",
       "      <td>8661</td>\n",
       "    </tr>\n",
       "    <tr>\n",
       "      <th>Serious</th>\n",
       "      <td>88217</td>\n",
       "      <td>88217</td>\n",
       "      <td>88217</td>\n",
       "      <td>88217</td>\n",
       "      <td>88217</td>\n",
       "      <td>88217</td>\n",
       "      <td>88217</td>\n",
       "      <td>88217</td>\n",
       "      <td>88217</td>\n",
       "      <td>88217</td>\n",
       "      <td>88217</td>\n",
       "      <td>88217</td>\n",
       "      <td>88217</td>\n",
       "      <td>88217</td>\n",
       "      <td>88217</td>\n",
       "      <td>88217</td>\n",
       "      <td>88217</td>\n",
       "    </tr>\n",
       "    <tr>\n",
       "      <th>Slight</th>\n",
       "      <td>563801</td>\n",
       "      <td>563801</td>\n",
       "      <td>563801</td>\n",
       "      <td>563801</td>\n",
       "      <td>563801</td>\n",
       "      <td>563801</td>\n",
       "      <td>563801</td>\n",
       "      <td>563801</td>\n",
       "      <td>563801</td>\n",
       "      <td>563801</td>\n",
       "      <td>563801</td>\n",
       "      <td>563801</td>\n",
       "      <td>563801</td>\n",
       "      <td>563801</td>\n",
       "      <td>563801</td>\n",
       "      <td>563801</td>\n",
       "      <td>563801</td>\n",
       "    </tr>\n",
       "  </tbody>\n",
       "</table>\n",
       "</div>"
      ],
      "text/plain": [
       "                    Index  Accident Date  Latitude  Light_Conditions  \\\n",
       "Accident_Severity                                                      \n",
       "Fatal                8661           8661      8661              8661   \n",
       "Serious             88217          88217     88217             88217   \n",
       "Slight             563801         563801    563801            563801   \n",
       "\n",
       "                   District Area  Longitude  Number_of_Casualties  \\\n",
       "Accident_Severity                                                   \n",
       "Fatal                       8661       8661                  8661   \n",
       "Serious                    88217      88217                 88217   \n",
       "Slight                    563801     563801                563801   \n",
       "\n",
       "                   Number_of_Vehicles  Road_Surface_Conditions  Road_Type  \\\n",
       "Accident_Severity                                                           \n",
       "Fatal                            8661                     8661       8661   \n",
       "Serious                         88217                    88217      88217   \n",
       "Slight                         563801                   563801     563801   \n",
       "\n",
       "                   Urban_or_Rural_Area  Weather_Conditions  Vehicle_Type  \\\n",
       "Accident_Severity                                                          \n",
       "Fatal                             8661                8661          8661   \n",
       "Serious                          88217               88217         88217   \n",
       "Slight                          563801              563801        563801   \n",
       "\n",
       "                     Year   Month     Day  DayOfWeek  \n",
       "Accident_Severity                                     \n",
       "Fatal                8661    8661    8661       8661  \n",
       "Serious             88217   88217   88217      88217  \n",
       "Slight             563801  563801  563801     563801  "
      ]
     },
     "execution_count": 25,
     "metadata": {},
     "output_type": "execute_result"
    }
   ],
   "source": [
    "Severity"
   ]
  },
  {
   "cell_type": "markdown",
   "id": "022abc53-f8e4-43eb-87e5-9f1245acffc6",
   "metadata": {},
   "source": [
    "<h1>Insight 1 : Total of accident happening every friday, because of the possible 'tgif' moto of every worker or students.</h1>"
   ]
  },
  {
   "cell_type": "code",
   "execution_count": 26,
   "id": "0a5ff0be-86d1-4033-816b-fbe663eebd90",
   "metadata": {},
   "outputs": [],
   "source": [
    "friday = aksident[aksident['DayOfWeek'] == 4]"
   ]
  },
  {
   "cell_type": "code",
   "execution_count": 27,
   "id": "4b3bfe23-40d7-41cd-862f-d9598b0b0e96",
   "metadata": {},
   "outputs": [
    {
     "data": {
      "text/plain": [
       "np.int64(97900)"
      ]
     },
     "execution_count": 27,
     "metadata": {},
     "output_type": "execute_result"
    }
   ],
   "source": [
    "friday.value_counts().sum()"
   ]
  },
  {
   "cell_type": "markdown",
   "id": "43764b70-1733-42b0-a946-4e320727c058",
   "metadata": {},
   "source": [
    "<h4>There is a total number of 97900 accident that happens every friday because of the possible 'tgif motto</h4>"
   ]
  },
  {
   "cell_type": "markdown",
   "id": "a7dcafd9-4525-43aa-bd83-1cadf06a573f",
   "metadata": {},
   "source": [
    "<h1>Insight 2 : Correlation between Number of Casualties & Number of vehicles</h1>\n",
    "<h3>is it possible that the higher vehicle number involve in a situaion is that there is a higher number of casualties?</h3>"
   ]
  },
  {
   "cell_type": "code",
   "execution_count": 29,
   "id": "1dbed1a0-aa3d-4f96-941e-40232b5901e9",
   "metadata": {},
   "outputs": [],
   "source": [
    "corr = aksident['Number_of_Casualties'].corr(aksident['Number_of_Vehicles'])"
   ]
  },
  {
   "cell_type": "code",
   "execution_count": 30,
   "id": "df4d60b3-e0f1-4ef8-a594-ea686cf51c9b",
   "metadata": {},
   "outputs": [
    {
     "data": {
      "text/plain": [
       "np.float64(0.2288888612692756)"
      ]
     },
     "execution_count": 30,
     "metadata": {},
     "output_type": "execute_result"
    }
   ],
   "source": [
    "corr"
   ]
  },
  {
   "cell_type": "markdown",
   "id": "c679d778-924b-4866-862d-742a2061d7c3",
   "metadata": {},
   "source": [
    "<h1>There is no Correlation between Number of Casualties & Number of vehicles</h1>"
   ]
  },
  {
   "cell_type": "markdown",
   "id": "ecd43e03-399b-49f0-b30c-548b2982b022",
   "metadata": {},
   "source": [
    "<h1>Inisight 3 : Place that accident most happens</h1>\n",
    "<h3>Rural or Urban?</h3>"
   ]
  },
  {
   "cell_type": "code",
   "execution_count": 32,
   "id": "4ed8b9df-ed8e-4997-9f0c-d560556466a7",
   "metadata": {},
   "outputs": [],
   "source": [
    "ruban = aksident['Urban_or_Rural_Area']"
   ]
  },
  {
   "cell_type": "code",
   "execution_count": 33,
   "id": "a490d5f1-f8d9-469e-bcc1-9378cdc7bc69",
   "metadata": {},
   "outputs": [
    {
     "data": {
      "text/plain": [
       "Urban_or_Rural_Area\n",
       "Urban                          421663\n",
       "Rural                          238990\n",
       "unknown Urban or Rural Area        15\n",
       "Unallocated                        11\n",
       "Name: count, dtype: int64"
      ]
     },
     "execution_count": 33,
     "metadata": {},
     "output_type": "execute_result"
    }
   ],
   "source": [
    "ruban.value_counts()\n"
   ]
  },
  {
   "cell_type": "markdown",
   "id": "644fa433-5135-4c4c-bc00-0e1a95c2b2c7",
   "metadata": {},
   "source": [
    "<h1>Insight 4 : Total number of accidents in 2022</h1>"
   ]
  },
  {
   "cell_type": "code",
   "execution_count": 37,
   "id": "bb4cca1f-b9b9-410b-bff8-af02402aa7ba",
   "metadata": {},
   "outputs": [
    {
     "data": {
      "text/plain": [
       "np.int64(144419)"
      ]
     },
     "execution_count": 37,
     "metadata": {},
     "output_type": "execute_result"
    }
   ],
   "source": [
    "total_aksident_2022 = aksident[aksident['Accident Date'].dt.year == 2022]['Accident Date'].count()\n",
    "total_aksident_2022"
   ]
  },
  {
   "cell_type": "code",
   "execution_count": 35,
   "id": "7161b5a2-bfda-4090-bde2-27628d82ba44",
   "metadata": {},
   "outputs": [
    {
     "data": {
      "text/plain": [
       "Accident_Severity\n",
       "Slight     563801\n",
       "Serious     88217\n",
       "Fatal        8661\n",
       "Name: count, dtype: int64"
      ]
     },
     "execution_count": 35,
     "metadata": {},
     "output_type": "execute_result"
    }
   ],
   "source": [
    "ser.value_counts()"
   ]
  },
  {
   "cell_type": "markdown",
   "id": "b1b7b703-5086-480b-8ec4-e4de565a6449",
   "metadata": {},
   "source": [
    "<h1>Insight 5 : Average number of accidents per day</h1>"
   ]
  },
  {
   "cell_type": "code",
   "execution_count": 38,
   "id": "ba8be128-e1f4-4417-86c7-44aa2ac91ae3",
   "metadata": {},
   "outputs": [
    {
     "data": {
      "text/plain": [
       "np.float64(21312.225806451614)"
      ]
     },
     "execution_count": 38,
     "metadata": {},
     "output_type": "execute_result"
    }
   ],
   "source": [
    "aksident_per_day = aksident['Accident Date'].groupby(aksident['Accident Date'].dt.day).count().mean()\n",
    "aksident_per_day"
   ]
  },
  {
   "cell_type": "markdown",
   "id": "e73d05d2-9084-47b4-8a01-9fae052e27e0",
   "metadata": {},
   "source": [
    "<h1>Insight 6 : Types of severity that most happen in all accidents</h1>"
   ]
  },
  {
   "cell_type": "code",
   "execution_count": 39,
   "id": "23a9446d-d9aa-402c-8ad8-d6e702e68bfa",
   "metadata": {},
   "outputs": [
    {
     "data": {
      "text/plain": [
       "Accident_Severity\n",
       "Slight     563801\n",
       "Serious     88217\n",
       "Fatal        8661\n",
       "Name: count, dtype: int64"
      ]
     },
     "execution_count": 39,
     "metadata": {},
     "output_type": "execute_result"
    }
   ],
   "source": [
    "Types = aksident['Accident_Severity'].value_counts()\n",
    "Types"
   ]
  },
  {
   "cell_type": "markdown",
   "id": "f981e238-1930-4502-9fdf-4f17b5c0ff68",
   "metadata": {},
   "source": [
    "<h1>Insight 7 : Most common light condition during accidents</h1>"
   ]
  },
  {
   "cell_type": "code",
   "execution_count": 40,
   "id": "5d02a528-c7b1-4fab-b8ae-6793deb2e56f",
   "metadata": {},
   "outputs": [
    {
     "data": {
      "text/plain": [
       "Light_Conditions\n",
       "Daylight                       484880\n",
       "Darkness - lights lit          129335\n",
       "Darkness - no lighting          37437\n",
       "Darkness - lighting unknown      6484\n",
       "Darkness - lights unlit          2543\n",
       "Name: count, dtype: int64"
      ]
     },
     "execution_count": 40,
     "metadata": {},
     "output_type": "execute_result"
    }
   ],
   "source": [
    "common_light_condition = aksident['Light_Conditions'].value_counts()\n",
    "common_light_condition"
   ]
  },
  {
   "cell_type": "markdown",
   "id": "0c44b65d-4194-4e95-b40f-e526e55c94c4",
   "metadata": {},
   "source": [
    "<h3>The mpst common condition that accident happen is in Daylight</h3>"
   ]
  },
  {
   "cell_type": "markdown",
   "id": "376790f1-63c5-4a11-937e-e7d466ace3a3",
   "metadata": {},
   "source": [
    "<h1>Insight 8 : Most weather condition that accident happens</h1>"
   ]
  },
  {
   "cell_type": "code",
   "execution_count": 42,
   "id": "30c5d6fb-f2c9-453f-ba38-d108cd93e1a1",
   "metadata": {},
   "outputs": [
    {
     "data": {
      "text/plain": [
       "Weather_Conditions\n",
       "Fine no high winds            520885\n",
       "Raining no high winds          79696\n",
       "Other                          17150\n",
       "unknown Weather Conditions     14128\n",
       "Raining + high winds            9615\n",
       "Fine + high winds               8554\n",
       "Snowing no high winds           6238\n",
       "Fog or mist                     3528\n",
       "Snowing + high winds             885\n",
       "Name: count, dtype: int64"
      ]
     },
     "execution_count": 42,
     "metadata": {},
     "output_type": "execute_result"
    }
   ],
   "source": [
    "most_weather = aksident['Weather_Conditions'].value_counts()\n",
    "most_weather"
   ]
  },
  {
   "cell_type": "markdown",
   "id": "7efe59a6-a3b6-4c0e-8bd1-2b0eb1350769",
   "metadata": {},
   "source": [
    "<h4>'Fine no winds' is the weather condition that accident most happens</h4>"
   ]
  },
  {
   "cell_type": "markdown",
   "id": "917c66db-cb15-406d-86c6-e71af4f3cb2a",
   "metadata": {},
   "source": [
    "<h1>Insight 9 : Average number of vehicles involved in each accident</h1>"
   ]
  },
  {
   "cell_type": "code",
   "execution_count": 43,
   "id": "c0dd4737-09ba-472e-b53f-fc733c5f4172",
   "metadata": {},
   "outputs": [
    {
     "data": {
      "text/plain": [
       "np.float64(1.8312554205597575)"
      ]
     },
     "execution_count": 43,
     "metadata": {},
     "output_type": "execute_result"
    }
   ],
   "source": [
    "average_vehicles = aksident['Number_of_Vehicles'].mean()\n",
    "average_vehicles"
   ]
  },
  {
   "cell_type": "markdown",
   "id": "57b02fa9-2881-4f4b-8ba8-a953b8d29fca",
   "metadata": {},
   "source": [
    "<h4>There's a 1.83 average number of vehicle that is invilve in each accident</h4>"
   ]
  },
  {
   "cell_type": "markdown",
   "id": "aae9b1be-d554-42d1-8e6c-1e0e115db03c",
   "metadata": {},
   "source": [
    "<h1>Insight 10 :  Most common road surface condition where accidents occurred</h1>"
   ]
  },
  {
   "cell_type": "code",
   "execution_count": 44,
   "id": "dc0b4869-3516-4b32-ba2f-c23693052ca4",
   "metadata": {},
   "outputs": [
    {
     "data": {
      "text/plain": [
       "Road_Surface_Conditions\n",
       "Dry                                447821\n",
       "Wet or damp                        186708\n",
       "Frost or ice                        18517\n",
       "Snow                                 5890\n",
       "Flood over 3cm. deep                 1017\n",
       "unknown Road Surface Conditions       726\n",
       "Name: count, dtype: int64"
      ]
     },
     "execution_count": 44,
     "metadata": {},
     "output_type": "execute_result"
    }
   ],
   "source": [
    "common_surface = aksident['Road_Surface_Conditions'].value_counts()\n",
    "common_surface"
   ]
  },
  {
   "cell_type": "markdown",
   "id": "6b1f49b7-fb7e-4907-93c7-0e8b351f6321",
   "metadata": {},
   "source": [
    "<h4>Dry road surface is the most road condition that accident mnost happens</h4>"
   ]
  },
  {
   "cell_type": "markdown",
   "id": "c25b8d9d-a34b-44a3-be67-12e1eb209f58",
   "metadata": {},
   "source": [
    "<h1>Insight 11 : Day of the week that has the  highest number of accidents</h1>"
   ]
  },
  {
   "cell_type": "code",
   "execution_count": 46,
   "id": "d1747210-0b7d-4b7a-b9ea-e63aa5a7c619",
   "metadata": {},
   "outputs": [
    {
     "data": {
      "text/plain": [
       "DayOfWeek\n",
       "5    107178\n",
       "2     99558\n",
       "3     99511\n",
       "4     97900\n",
       "1     94550\n",
       "6     89302\n",
       "0     72680\n",
       "Name: count, dtype: int64"
      ]
     },
     "execution_count": 46,
     "metadata": {},
     "output_type": "execute_result"
    }
   ],
   "source": [
    "day_aksident = aksident['DayOfWeek'].value_counts()\n",
    "day_aksident"
   ]
  },
  {
   "cell_type": "markdown",
   "id": "8049e218-2289-4903-b40e-be366de0c1c4",
   "metadata": {},
   "source": [
    "<h4>Friday (Day 5) recorded the highest number of accidents, with 107,178 incidents.</h4>"
   ]
  },
  {
   "cell_type": "markdown",
   "id": "2e602321-cabd-423b-938a-bd9cae7d5176",
   "metadata": {},
   "source": [
    "<h1>Insight 12 : road type experienced the most accidents happens</h1>"
   ]
  },
  {
   "cell_type": "code",
   "execution_count": 47,
   "id": "8107b8a2-5926-4c2b-adab-3f29c31eac12",
   "metadata": {},
   "outputs": [
    {
     "data": {
      "text/plain": [
       "Road_Type\n",
       "Single carriageway    492143\n",
       "Dual carriageway       99424\n",
       "Roundabout             43992\n",
       "One way street         13559\n",
       "Slip road               7041\n",
       "unknown Road Type       4520\n",
       "Name: count, dtype: int64"
      ]
     },
     "execution_count": 47,
     "metadata": {},
     "output_type": "execute_result"
    }
   ],
   "source": [
    "road_type = aksident['Road_Type'].value_counts()\n",
    "road_type"
   ]
  },
  {
   "cell_type": "markdown",
   "id": "809b7aa7-51b0-4c84-b5aa-7647d3633ab1",
   "metadata": {},
   "source": [
    "<h4>The most accidents occurred on Single Carriageway roads, with 492,143 recorded incidents. </h4>"
   ]
  },
  {
   "cell_type": "markdown",
   "id": "93206d19-8f26-4a8f-bfcc-e8d70649f8c5",
   "metadata": {},
   "source": [
    "<h1>Insight 13 : Do weather condition affect the number of accidents</h1>"
   ]
  },
  {
   "cell_type": "code",
   "execution_count": 48,
   "id": "4905b4fc-c623-467e-8571-66d5e6c6aa59",
   "metadata": {},
   "outputs": [
    {
     "data": {
      "text/plain": [
       "Weather_Conditions\n",
       "Snowing + high winds             885\n",
       "Fog or mist                     3528\n",
       "Snowing no high winds           6238\n",
       "Fine + high winds               8554\n",
       "Raining + high winds            9615\n",
       "unknown Weather Conditions     14128\n",
       "Other                          17150\n",
       "Raining no high winds          79696\n",
       "Fine no high winds            520885\n",
       "Name: Accident Date, dtype: int64"
      ]
     },
     "execution_count": 48,
     "metadata": {},
     "output_type": "execute_result"
    }
   ],
   "source": [
    "weather_aksident = aksident.groupby('Weather_Conditions')['Accident Date'].count().sort_values()\n",
    "weather_aksident"
   ]
  },
  {
   "cell_type": "markdown",
   "id": "897e1f3b-3384-4943-9bea-0a0e8f19e6a1",
   "metadata": {},
   "source": [
    "<h1>Insight 14 : Average Number of casualties on different road surface conditions</h1>"
   ]
  },
  {
   "cell_type": "code",
   "execution_count": 49,
   "id": "a947e7cc-e5ea-4008-8b88-90e7d3890963",
   "metadata": {},
   "outputs": [
    {
     "data": {
      "text/plain": [
       "Road_Surface_Conditions\n",
       "Dry                                1.334736\n",
       "Flood over 3cm. deep               1.495575\n",
       "Frost or ice                       1.348815\n",
       "Snow                               1.359593\n",
       "Wet or damp                        1.411064\n",
       "unknown Road Surface Conditions    1.216253\n",
       "Name: Number_of_Casualties, dtype: float64"
      ]
     },
     "execution_count": 49,
     "metadata": {},
     "output_type": "execute_result"
    }
   ],
   "source": [
    "average_casualties = aksident.groupby('Road_Surface_Conditions')['Number_of_Casualties'].mean()\n",
    "average_casualties"
   ]
  },
  {
   "cell_type": "markdown",
   "id": "9a71e10b-ecbd-469a-89cf-c7b5bca90406",
   "metadata": {},
   "source": [
    "<h1>Insight 15 : Number of Accident that involve Bus vehicle</h1>"
   ]
  },
  {
   "cell_type": "code",
   "execution_count": 65,
   "id": "a16d99dc-b8c3-4feb-bfc1-5c0b3bd0570c",
   "metadata": {},
   "outputs": [
    {
     "data": {
      "text/plain": [
       "Accident_Severity\n",
       "Fatal        325\n",
       "Serious     3373\n",
       "Slight     22180\n",
       "dtype: int64"
      ]
     },
     "execution_count": 65,
     "metadata": {},
     "output_type": "execute_result"
    }
   ],
   "source": [
    "horse_aksident = aksident[aksident['Vehicle_Type'] == 'Bus or coach (17 or more pass seats)']\n",
    "horse_aksident.groupby('Accident_Severity').size()"
   ]
  },
  {
   "cell_type": "markdown",
   "id": "114131e9-52f1-4ec5-aa26-ad4b931906e5",
   "metadata": {},
   "source": [
    "<h4>'Slight' accident severity is most condition in an accident which involve bus vehicle</h4>"
   ]
  },
  {
   "cell_type": "markdown",
   "id": "b6aa5d47-0a40-465b-a26e-811af4aa48ea",
   "metadata": {},
   "source": [
    "<h1>Insight 16 : Do weather conditions relate to light conditions in road accidents</h1>"
   ]
  },
  {
   "cell_type": "code",
   "execution_count": 50,
   "id": "2dbadf3b-51ce-450f-8e92-c03b5c36548a",
   "metadata": {},
   "outputs": [
    {
     "data": {
      "text/plain": [
       "Weather_Conditions          Light_Conditions           \n",
       "Fine + high winds           Darkness - lighting unknown        59\n",
       "                            Darkness - lights lit            1852\n",
       "                            Darkness - lights unlit            51\n",
       "                            Darkness - no lighting            796\n",
       "                            Daylight                         5796\n",
       "Fine no high winds          Darkness - lighting unknown      3683\n",
       "                            Darkness - lights lit           91951\n",
       "                            Darkness - lights unlit          1700\n",
       "                            Darkness - no lighting          24867\n",
       "                            Daylight                       398684\n",
       "Fog or mist                 Darkness - lighting unknown        65\n",
       "                            Darkness - lights lit             921\n",
       "                            Darkness - lights unlit            37\n",
       "                            Darkness - no lighting            862\n",
       "                            Daylight                         1643\n",
       "Other                       Darkness - lighting unknown       186\n",
       "                            Darkness - lights lit            4803\n",
       "                            Darkness - lights unlit           143\n",
       "                            Darkness - no lighting           1915\n",
       "                            Daylight                        10103\n",
       "Raining + high winds        Darkness - lighting unknown       111\n",
       "                            Darkness - lights lit            3066\n",
       "                            Darkness - lights unlit            73\n",
       "                            Darkness - no lighting           1423\n",
       "                            Daylight                         4942\n",
       "Raining no high winds       Darkness - lighting unknown       621\n",
       "                            Darkness - lights lit           22666\n",
       "                            Darkness - lights unlit           459\n",
       "                            Darkness - no lighting           6208\n",
       "                            Daylight                        49742\n",
       "Snowing + high winds        Darkness - lighting unknown        15\n",
       "                            Darkness - lights lit             241\n",
       "                            Darkness - lights unlit             5\n",
       "                            Darkness - no lighting            171\n",
       "                            Daylight                          453\n",
       "Snowing no high winds       Darkness - lighting unknown        94\n",
       "                            Darkness - lights lit            1828\n",
       "                            Darkness - lights unlit            30\n",
       "                            Darkness - no lighting            811\n",
       "                            Daylight                         3475\n",
       "unknown Weather Conditions  Darkness - lighting unknown      1650\n",
       "                            Darkness - lights lit            2007\n",
       "                            Darkness - lights unlit            45\n",
       "                            Darkness - no lighting            384\n",
       "                            Daylight                        10042\n",
       "Name: Accident Date, dtype: int64"
      ]
     },
     "execution_count": 50,
     "metadata": {},
     "output_type": "execute_result"
    }
   ],
   "source": [
    "weather_condition = aksident.groupby(['Weather_Conditions', 'Light_Conditions'])['Accident Date'].count()\n",
    "weather_condition"
   ]
  },
  {
   "cell_type": "markdown",
   "id": "0de10e80-413a-4deb-a873-80d4a8e0d9d5",
   "metadata": {},
   "source": [
    "<h4>Most accidents occur in clear weather during daylight, but foggy and rainy conditions increase accidents in low-light conditions. </h4>"
   ]
  },
  {
   "cell_type": "markdown",
   "id": "1883019e-e534-4969-8405-64681fb38ec9",
   "metadata": {},
   "source": [
    "<h1>Insight 17 : To know weather conditions, road surface conditions, and accident severity have interaction</h1>"
   ]
  },
  {
   "cell_type": "code",
   "execution_count": 51,
   "id": "1102712e-8d2a-41fc-b35e-5f0ed436a4d6",
   "metadata": {},
   "outputs": [
    {
     "data": {
      "text/plain": [
       "Weather_Conditions          Road_Surface_Conditions          Accident_Severity\n",
       "Fine + high winds           Dry                              Slight               4162\n",
       "                                                             Serious               758\n",
       "                                                             Fatal                 103\n",
       "                            Flood over 3cm. deep             Slight                 14\n",
       "                                                             Fatal                   1\n",
       "                                                                                  ... \n",
       "unknown Weather Conditions  Wet or damp                      Serious               169\n",
       "                                                             Fatal                  29\n",
       "                            unknown Road Surface Conditions  Slight                550\n",
       "                                                             Serious                61\n",
       "                                                             Fatal                   1\n",
       "Name: count, Length: 162, dtype: int64"
      ]
     },
     "execution_count": 51,
     "metadata": {},
     "output_type": "execute_result"
    }
   ],
   "source": [
    "road_severity = aksident.groupby(['Weather_Conditions', 'Road_Surface_Conditions'])['Accident_Severity'].value_counts()\n",
    "road_severity"
   ]
  },
  {
   "cell_type": "markdown",
   "id": "01785586-7814-48a3-8203-f9afcefa41f9",
   "metadata": {},
   "source": [
    "<h1>Insight 18 : To know road type, light conditions, and accident severity relate to each other</h1>"
   ]
  },
  {
   "cell_type": "code",
   "execution_count": 52,
   "id": "843dfc09-0932-4f56-9c62-d9b967a850ca",
   "metadata": {},
   "outputs": [
    {
     "data": {
      "text/plain": [
       "Road_Type          Light_Conditions             Accident_Severity\n",
       "Dual carriageway   Darkness - lighting unknown  Slight                 805\n",
       "                                                Serious                 93\n",
       "                                                Fatal                    7\n",
       "                   Darkness - lights lit        Slight               17025\n",
       "                                                Serious               2762\n",
       "                                                                     ...  \n",
       "unknown Road Type  Darkness - no lighting       Serious                 33\n",
       "                                                Fatal                    1\n",
       "                   Daylight                     Slight                3098\n",
       "                                                Serious                349\n",
       "                                                Fatal                   22\n",
       "Name: count, Length: 90, dtype: int64"
      ]
     },
     "execution_count": 52,
     "metadata": {},
     "output_type": "execute_result"
    }
   ],
   "source": [
    "light_severity = aksident.groupby(['Road_Type', 'Light_Conditions'])['Accident_Severity'].value_counts()\n",
    "light_severity"
   ]
  },
  {
   "cell_type": "markdown",
   "id": "a1fa7cc9-db96-4a00-b11e-018e3f299843",
   "metadata": {},
   "source": [
    "<h1>Insight 19 : Corelation between vehicle type, urban/rural area, and accident severity</h1>"
   ]
  },
  {
   "cell_type": "code",
   "execution_count": 53,
   "id": "d33e4daa-ff5b-4ac0-ae1d-fe8712c2f743",
   "metadata": {},
   "outputs": [
    {
     "data": {
      "text/plain": [
       "Vehicle_Type                         Urban_or_Rural_Area          Accident_Severity\n",
       "Agricultural vehicle                 Rural                        Slight                540\n",
       "                                                                  Serious               121\n",
       "                                                                  Fatal                  14\n",
       "                                     Unallocated                  Fatal                   0\n",
       "                                                                  Serious                 0\n",
       "                                                                                       ... \n",
       "Van / Goods 3.5 tonnes mgw or under  Urban                        Serious              2707\n",
       "                                                                  Fatal                 161\n",
       "                                     unknown Urban or Rural Area  Fatal                   0\n",
       "                                                                  Serious                 0\n",
       "                                                                  Slight                  0\n",
       "Name: count, Length: 192, dtype: int64"
      ]
     },
     "execution_count": 53,
     "metadata": {},
     "output_type": "execute_result"
    }
   ],
   "source": [
    "vehicle_area_severity = aksident.groupby(['Vehicle_Type', 'Urban_or_Rural_Area'])['Accident_Severity'].value_counts()\n",
    "vehicle_area_severity"
   ]
  },
  {
   "cell_type": "markdown",
   "id": "953223de-091f-492c-b2dd-aa4e030fa2cf",
   "metadata": {},
   "source": [
    "<h1>Insight 20 : Number of accident that involve Car vehicles</h1>"
   ]
  },
  {
   "cell_type": "code",
   "execution_count": 60,
   "id": "4bdbe03c-548a-4e35-80eb-5d8372c4332b",
   "metadata": {},
   "outputs": [
    {
     "data": {
      "text/plain": [
       "Accident_Severity\n",
       "Fatal        6577\n",
       "Serious     66461\n",
       "Slight     424954\n",
       "dtype: int64"
      ]
     },
     "execution_count": 60,
     "metadata": {},
     "output_type": "execute_result"
    }
   ],
   "source": [
    "horse_aksident = aksident[aksident['Vehicle_Type'] == 'Car']\n",
    "horse_aksident.groupby('Accident_Severity').size()"
   ]
  },
  {
   "cell_type": "markdown",
   "id": "215188b1-83fc-4727-a777-e28bb3001bee",
   "metadata": {},
   "source": [
    "<h4>'Slight' accident severity is most condition in an accident which involve car vehicle</h4>\n"
   ]
  },
  {
   "cell_type": "code",
   "execution_count": null,
   "id": "98a809b2-acff-4be7-b99f-03fa8083720b",
   "metadata": {},
   "outputs": [],
   "source": []
  },
  {
   "cell_type": "code",
   "execution_count": null,
   "id": "bff3e031-1355-41c8-b0ac-16e6d2dc5dbf",
   "metadata": {},
   "outputs": [],
   "source": []
  },
  {
   "cell_type": "code",
   "execution_count": null,
   "id": "80a3f987-04fd-4e7a-8ad8-aad37b8a6aa4",
   "metadata": {},
   "outputs": [],
   "source": []
  }
 ],
 "metadata": {
  "kernelspec": {
   "display_name": "Python 3 (ipykernel)",
   "language": "python",
   "name": "python3"
  },
  "language_info": {
   "codemirror_mode": {
    "name": "ipython",
    "version": 3
   },
   "file_extension": ".py",
   "mimetype": "text/x-python",
   "name": "python",
   "nbconvert_exporter": "python",
   "pygments_lexer": "ipython3",
   "version": "3.13.1"
  }
 },
 "nbformat": 4,
 "nbformat_minor": 5
}
